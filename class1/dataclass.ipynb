{
 "cells": [
  {
   "cell_type": "code",
   "execution_count": 34,
   "metadata": {},
   "outputs": [
    {
     "data": {
      "text/plain": [
       "'hllo'"
      ]
     },
     "execution_count": 34,
     "metadata": {},
     "output_type": "execute_result"
    }
   ],
   "source": [
    "from dataclasses import dataclass\n",
    "\n",
    "class constructor:\n",
    "    def __init__(self) -> None:\n",
    "        self.a=\"a\"\n",
    "\n",
    "\n",
    "\n",
    "@dataclass\n",
    "class Obbject():\n",
    "    c: int\n",
    "    a: int=10\n",
    "    b: str=None\n",
    "\n",
    "\n",
    "class NEwOBject(Obbject):\n",
    "    def hello():\n",
    "        return NEwOBject\n",
    "\n",
    "NEwOBject.hello().b=\"hllo\"\n",
    "NEwOBject.hello().b"
   ]
  },
  {
   "cell_type": "code",
   "execution_count": null,
   "metadata": {},
   "outputs": [],
   "source": []
  }
 ],
 "metadata": {
  "kernelspec": {
   "display_name": "Python 3",
   "language": "python",
   "name": "python3"
  },
  "language_info": {
   "codemirror_mode": {
    "name": "ipython",
    "version": 3
   },
   "file_extension": ".py",
   "mimetype": "text/x-python",
   "name": "python",
   "nbconvert_exporter": "python",
   "pygments_lexer": "ipython3",
   "version": "3.10.13"
  },
  "orig_nbformat": 4
 },
 "nbformat": 4,
 "nbformat_minor": 2
}
