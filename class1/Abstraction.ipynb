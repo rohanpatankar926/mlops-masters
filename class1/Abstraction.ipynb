{
 "cells": [
  {
   "cell_type": "code",
   "execution_count": 13,
   "id": "40546cfb-c010-462b-84d2-8f751303e079",
   "metadata": {},
   "outputs": [],
   "source": [
    "import abc\n",
    "#schema which is also class design \n",
    "class Object:\n",
    "    \n",
    "    @abc.abstractmethod\n",
    "    def students_detials(self):\n",
    "        pass\n",
    "    \n",
    "    @abc.abstractmethod\n",
    "    def student_assignemnt(self):\n",
    "        pass\n",
    "    \n",
    "    @abc.abstractmethod\n",
    "    def student_marks(self):\n",
    "        pass\n",
    "\n",
    "\n",
    "#database crud oper\n",
    "    \n",
    "class DB:\n",
    "    \n",
    "    @abc.abstractmethod\n",
    "    def create(self):\n",
    "        pass\n",
    "    \n",
    "    @abc.abstractmethod\n",
    "    def read(self):\n",
    "        pass\n",
    "    \n",
    "    @abc.abstractmethod\n",
    "    def update(self):\n",
    "        pass\n",
    "    \n",
    "    @abc.abstractmethod\n",
    "    def delete(self):\n",
    "        pass\n",
    "\n",
    "\n",
    "class CREATE(DB):\n",
    "    def create(self,data_add):\n",
    "        data=[]\n",
    "        data.append(data_add)\n",
    "        return data\n",
    "    \n",
    "class UPDATE(DB):\n",
    "    def update(self,index,new_data,data):\n",
    "        data[index]=new_data\n",
    "        return data\n",
    "    \n",
    "\n"
   ]
  },
  {
   "cell_type": "code",
   "execution_count": 15,
   "id": "9013b08c-7341-45aa-89bd-35a09e6dc3ad",
   "metadata": {},
   "outputs": [],
   "source": [
    "class student_detils(Object):\n",
    "    \n",
    "    def students_detials(self):\n",
    "        return \"this is a meth for taking students details\"\n",
    "    \n",
    "    def student_assignemnt(self):\n",
    "        return \"this is a meth for assing details for a perticualt student\""
   ]
  },
  {
   "cell_type": "code",
   "execution_count": 16,
   "id": "28533a52-fc10-4a0a-b7ef-b579af429338",
   "metadata": {},
   "outputs": [],
   "source": [
    "class data_science_masters(Object):\n",
    "    \n",
    "    def students_detials(self):\n",
    "        return \"this will return a student details for data science masters \"\n",
    "    \n",
    "    def student_assignemnt(self):\n",
    "        return \"this will give you a studnt assignment detaild for data science masters \""
   ]
  },
  {
   "cell_type": "code",
   "execution_count": 17,
   "id": "8ee48a80-6f32-42c4-a32f-bdf6d743c971",
   "metadata": {},
   "outputs": [
    {
     "data": {
      "text/plain": [
       "'this will return a student details for data science masters '"
      ]
     },
     "execution_count": 17,
     "metadata": {},
     "output_type": "execute_result"
    }
   ],
   "source": [
    "dsm = data_science_masters()\n",
    "dsm.students_detials()"
   ]
  },
  {
   "cell_type": "code",
   "execution_count": 18,
   "id": "455b7a49-26a5-4b0c-be88-6e85963f2e0d",
   "metadata": {},
   "outputs": [
    {
     "data": {
      "text/plain": [
       "'this is a meth for taking students details'"
      ]
     },
     "execution_count": 18,
     "metadata": {},
     "output_type": "execute_result"
    }
   ],
   "source": [
    "sd= student_detils()\n",
    "sd.students_detials()"
   ]
  },
  {
   "cell_type": "code",
   "execution_count": null,
   "id": "802ca483-b010-4d11-b57f-b8e36f1edcd5",
   "metadata": {},
   "outputs": [],
   "source": []
  }
 ],
 "metadata": {
  "kernelspec": {
   "display_name": "Python 3 (ipykernel)",
   "language": "python",
   "name": "python3"
  },
  "language_info": {
   "codemirror_mode": {
    "name": "ipython",
    "version": 3
   },
   "file_extension": ".py",
   "mimetype": "text/x-python",
   "name": "python",
   "nbconvert_exporter": "python",
   "pygments_lexer": "ipython3",
   "version": "3.10.8"
  }
 },
 "nbformat": 4,
 "nbformat_minor": 5
}
